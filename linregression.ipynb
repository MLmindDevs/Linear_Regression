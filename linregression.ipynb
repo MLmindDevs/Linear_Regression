{
 "cells": [
  {
   "cell_type": "markdown",
   "metadata": {},
   "source": [
    "# Let's look at an example of Linear Regression in action!\n"
   ]
  },
  {
   "cell_type": "markdown",
   "metadata": {},
   "source": [
    "### First we'll import our dependencies"
   ]
  },
  {
   "cell_type": "code",
   "execution_count": 1,
   "metadata": {
    "collapsed": false
   },
   "outputs": [
    {
     "name": "stderr",
     "output_type": "stream",
     "text": [
      "/home/nickk/anaconda3/lib/python3.6/site-packages/sklearn/cross_validation.py:44: DeprecationWarning: This module was deprecated in version 0.18 in favor of the model_selection module into which all the refactored classes and functions are moved. Also note that the interface of the new CV iterators are different from that of this module. This module will be removed in 0.20.\n",
      "  \"This module will be removed in 0.20.\", DeprecationWarning)\n"
     ]
    }
   ],
   "source": [
    "%matplotlib inline\n",
    "import pandas as pd\n",
    "from sklearn.linear_model import LinearRegression\n",
    "from sklearn.cross_validation import train_test_split\n",
    "from sklearn.metrics import mean_squared_error\n",
    "import matplotlib.pyplot as plt\n",
    "import numpy as np"
   ]
  },
  {
   "cell_type": "markdown",
   "metadata": {},
   "source": [
    "### Next up, let's start the data preprocessing step"
   ]
  },
  {
   "cell_type": "code",
   "execution_count": 2,
   "metadata": {
    "collapsed": true
   },
   "outputs": [],
   "source": [
    "def pre_process(dataframe):\n",
    "\n",
    "    to_list = df['dope_row'].values.tolist()  # put the one row in a list for the mini-process to make 2 rows\n",
    "\n",
    "    x_train = []  # made the lists that i'll use for the process\n",
    "    y_train = []\n",
    "\n",
    "    for item in to_list:  # the process for the data\n",
    "        x_train.append(item.split(\",\")[0])\n",
    "        y_train.append(item.split(\",\")[1])\n",
    "\n",
    "    # transform to numeric values\n",
    "    x_train = map(float, x_train)\n",
    "    y_train = map(float, y_train)\n",
    "\n",
    "    # transform x_train into a 2d array\n",
    "    x_train_final = [[x] for x in x_train]\n",
    "\n",
    "    return x_train_final, y_train"
   ]
  },
  {
   "cell_type": "markdown",
   "metadata": {},
   "source": [
    "### Now let's import and reformat the data"
   ]
  },
  {
   "cell_type": "code",
   "execution_count": 39,
   "metadata": {
    "collapsed": false
   },
   "outputs": [
    {
     "data": {
      "image/png": "[encoded data removed]",
      "text/plain": [
       "<matplotlib.figure.Figure at 0x21a554a8>"
      ]
     },
     "metadata": {},
     "output_type": "display_data"
    }
   ],
   "source": [
    "df = pd.read_fwf(\"challenge_dataset.txt\")\n",
    "\n",
    "feature, target = pre_process(df)\n",
    "\n",
    "#let's see what the data looks like\n",
    "plt.scatter(feature, target)\n",
    "plt.show()"
   ]
  },
  {
   "cell_type": "code",
   "execution_count": 40,
   "metadata": {
    "collapsed": true
   },
   "outputs": [],
   "source": [
    "df = pd.read_fwf(\"challenge_dataset.txt\")\n",
    "\n",
    "feature, target = pre_process(df)\n",
    "# train, test split to create a test set too for the errors...!\n",
    "x_train, x_test , y_train, y_test = train_test_split(feature, target, test_size=0.3, random_state=42)\n"
   ]
  },
  {
   "cell_type": "markdown",
   "metadata": {},
   "source": [
    "## Now it's time for the good stuff!"
   ]
  },
  {
   "cell_type": "code",
   "execution_count": 41,
   "metadata": {
    "collapsed": false
   },
   "outputs": [
    {
     "data": {
      "image/png": "[encoded data removed]",
      "text/plain": [
       "<matplotlib.figure.Figure at 0x1f1080f0>"
      ]
     },
     "metadata": {},
     "output_type": "display_data"
    },
    {
     "name": "stdout",
     "output_type": "stream",
     "text": [
      "squared error... : 11.2673699472\n"
     ]
    }
   ],
   "source": [
    "\n",
    "reg = LinearRegression()\n",
    "reg.fit(x_train, y_train)\n",
    "# visualise that shieeet...\n",
    "\n",
    "plt.scatter(x_test, y_test)\n",
    "plt.plot(x_test, reg.predict(x_test))\n",
    "plt.show()\n",
    "\n",
    "mean_squared_error = mean_squared_error(y_test, reg.predict(x_test))\n",
    "\n",
    "print \"squared error... : \" + str(mean_squared_error)"
   ]
  }
 ],
 "metadata": {
  "kernelspec": {
   "display_name": "Python 3",
   "language": "python",
   "name": "python3"
  },
  "language_info": {
   "codemirror_mode": {
    "name": "ipython",
    "version": 3
   },
   "file_extension": ".py",
   "mimetype": "text/x-python",
   "name": "python",
   "nbconvert_exporter": "python",
   "pygments_lexer": "ipython3",
   "version": "3.6.0"
  }
 },
 "nbformat": 4,
 "nbformat_minor": 2
}
